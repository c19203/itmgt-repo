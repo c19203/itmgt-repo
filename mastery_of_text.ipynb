{
 "cells": [
  {
   "cell_type": "code",
   "execution_count": 1,
   "id": "508ef2fd-e023-4e15-8f55-a8112ac67471",
   "metadata": {},
   "outputs": [],
   "source": [
    "#1.\n",
    "\n",
    "import urllib.request\n",
    "\n",
    "link = \"https://www.gutenberg.org/cache/epub/10/pg10.txt\"\n",
    "f = urllib.request.urlopen(link)\n",
    "pg10 = f.read().decode('utf-8')"
   ]
  },
  {
   "cell_type": "code",
   "execution_count": 3,
   "id": "366310a7-2c3e-4c15-9db8-d26b7a6f77f1",
   "metadata": {},
   "outputs": [
    {
     "name": "stdout",
     "output_type": "stream",
     "text": [
      "Number of lines: 99969\n"
     ]
    }
   ],
   "source": [
    "#2.1\n",
    "\n",
    "lines = len(pg10.split('\\n'))\n",
    "print(\"Number of lines:\", lines)"
   ]
  },
  {
   "cell_type": "code",
   "execution_count": 4,
   "id": "05dfe53e-783c-4714-ad89-70b7f0cc29cc",
   "metadata": {},
   "outputs": [
    {
     "name": "stdout",
     "output_type": "stream",
     "text": [
      "Number of words: 795227\n"
     ]
    }
   ],
   "source": [
    "#2.2\n",
    "\n",
    "words = []\n",
    "current_word = \"\"\n",
    "\n",
    "for char in pg10.lower():  # convert to lowercase\n",
    "    if char.isalpha():  # checks if character is a letter from a-z\n",
    "        current_word += char  \n",
    "    elif current_word:  # checks if current_word isn't empty\n",
    "        words.append(current_word) #add to words list\n",
    "        current_word = \"\"  # reset current_word\n",
    "\n",
    "print(\"Number of words:\", len(words))"
   ]
  },
  {
   "cell_type": "code",
   "execution_count": 10,
   "id": "122fb3ce-4ade-4fe9-836f-61e454f6eb96",
   "metadata": {},
   "outputs": [
    {
     "name": "stdout",
     "output_type": "stream",
     "text": [
      "Apostle count: 47\n"
     ]
    }
   ],
   "source": [
    "#2.3\n",
    "\n",
    "apostle = pg10.count(\"apostle\") + pg10.count(\"Apostle\") # case insensitive\n",
    "apostles = pg10.count(\"apostles\") + pg10.count(\"Apostles\") \n",
    "print(\"Apostle count:\", apostle - apostles) # isolate count for the singular form"
   ]
  },
  {
   "cell_type": "code",
   "execution_count": 8,
   "id": "8a6d55d9-e052-4634-8b5a-108b61416f15",
   "metadata": {},
   "outputs": [
    {
     "name": "stdout",
     "output_type": "stream",
     "text": [
      "Most common word: the\n"
     ]
    }
   ],
   "source": [
    "#2.4\n",
    "\n",
    "words = pg10.split()\n",
    "word_dic = {}\n",
    "for word in words:\n",
    "    try:\n",
    "        word_dic[word] = word_dic[word] + 1\n",
    "    except KeyError:\n",
    "        word_dic[word] = 1\n",
    "\n",
    "most_common = sorted([(value, key) for (key,value) in word_dic.items()])[-1][1]\n",
    "print(\"Most common word:\", most_common)"
   ]
  },
  {
   "cell_type": "code",
   "execution_count": null,
   "id": "8366c113-e47a-4bb3-b4e3-686a7126cfb9",
   "metadata": {},
   "outputs": [],
   "source": []
  },
  {
   "cell_type": "code",
   "execution_count": null,
   "id": "ee79ff49-23ba-436b-8e44-3adf5dacd1c7",
   "metadata": {},
   "outputs": [],
   "source": []
  }
 ],
 "metadata": {
  "kernelspec": {
   "display_name": "Python [conda env:base] *",
   "language": "python",
   "name": "conda-base-py"
  },
  "language_info": {
   "codemirror_mode": {
    "name": "ipython",
    "version": 3
   },
   "file_extension": ".py",
   "mimetype": "text/x-python",
   "name": "python",
   "nbconvert_exporter": "python",
   "pygments_lexer": "ipython3",
   "version": "3.13.2"
  }
 },
 "nbformat": 4,
 "nbformat_minor": 5
}
